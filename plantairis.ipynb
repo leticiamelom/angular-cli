{
  "nbformat": 4,
  "nbformat_minor": 0,
  "metadata": {
    "colab": {
      "name": "plantairis.ipynb",
      "provenance": [],
      "mount_file_id": "14DRbcnAeoXo2P9_AEsVnyxNx8sb8Y8ZZ",
      "authorship_tag": "ABX9TyNiHGqiocSuUc4RKeutdRSt",
      "include_colab_link": true
    },
    "kernelspec": {
      "name": "python3",
      "display_name": "Python 3"
    },
    "language_info": {
      "name": "python"
    }
  },
  "cells": [
    {
      "cell_type": "markdown",
      "metadata": {
        "id": "view-in-github",
        "colab_type": "text"
      },
      "source": [
        "<a href=\"https://colab.research.google.com/github/leticiamelom/angular-cli/blob/master/plantairis.ipynb\" target=\"_parent\"><img src=\"https://colab.research.google.com/assets/colab-badge.svg\" alt=\"Open In Colab\"/></a>"
      ]
    },
    {
      "cell_type": "code",
      "metadata": {
        "id": "qIpC9j-Sp8h8"
      },
      "source": [
        "import pandas as pd"
      ],
      "execution_count": 2,
      "outputs": []
    },
    {
      "cell_type": "code",
      "metadata": {
        "id": "YnRSl2PZuVRR"
      },
      "source": [
        "from sklearn.preprocessing import LabelEncoder"
      ],
      "execution_count": 16,
      "outputs": []
    },
    {
      "cell_type": "code",
      "metadata": {
        "id": "mF4KQNTavr-S"
      },
      "source": [
        "from sklearn.preprocessing import StandardScaler"
      ],
      "execution_count": 28,
      "outputs": []
    },
    {
      "cell_type": "code",
      "metadata": {
        "id": "1gN_jvSnwZmi"
      },
      "source": [
        "from sklearn.model_selection import train_test_split"
      ],
      "execution_count": 32,
      "outputs": []
    },
    {
      "cell_type": "code",
      "metadata": {
        "id": "oi2x0h_AwvOA"
      },
      "source": [
        "from sklearn.naive_bayes import GaussianNB"
      ],
      "execution_count": 35,
      "outputs": []
    },
    {
      "cell_type": "code",
      "metadata": {
        "id": "mHYZGoigxNB0"
      },
      "source": [
        "from sklearn.metrics import confusion_matrix, accuracy_score"
      ],
      "execution_count": 40,
      "outputs": []
    },
    {
      "cell_type": "code",
      "metadata": {
        "id": "IgMkseTUxbwx"
      },
      "source": [
        "from sklearn.ensemble import RandomForestClassifier"
      ],
      "execution_count": 45,
      "outputs": []
    },
    {
      "cell_type": "code",
      "metadata": {
        "colab": {
          "base_uri": "https://localhost:8080/",
          "height": 406
        },
        "id": "qwZnp1aXrxRz",
        "outputId": "34014fac-084e-450f-d372-bd3105813245"
      },
      "source": [
        "base = pd.read_csv(\"/content/iris.data\")\n",
        "base"
      ],
      "execution_count": 4,
      "outputs": [
        {
          "output_type": "execute_result",
          "data": {
            "text/html": [
              "<div>\n",
              "<style scoped>\n",
              "    .dataframe tbody tr th:only-of-type {\n",
              "        vertical-align: middle;\n",
              "    }\n",
              "\n",
              "    .dataframe tbody tr th {\n",
              "        vertical-align: top;\n",
              "    }\n",
              "\n",
              "    .dataframe thead th {\n",
              "        text-align: right;\n",
              "    }\n",
              "</style>\n",
              "<table border=\"1\" class=\"dataframe\">\n",
              "  <thead>\n",
              "    <tr style=\"text-align: right;\">\n",
              "      <th></th>\n",
              "      <th>5.1</th>\n",
              "      <th>3.5</th>\n",
              "      <th>1.4</th>\n",
              "      <th>0.2</th>\n",
              "      <th>Iris-setosa</th>\n",
              "    </tr>\n",
              "  </thead>\n",
              "  <tbody>\n",
              "    <tr>\n",
              "      <th>0</th>\n",
              "      <td>4.9</td>\n",
              "      <td>3.0</td>\n",
              "      <td>1.4</td>\n",
              "      <td>0.2</td>\n",
              "      <td>Iris-setosa</td>\n",
              "    </tr>\n",
              "    <tr>\n",
              "      <th>1</th>\n",
              "      <td>4.7</td>\n",
              "      <td>3.2</td>\n",
              "      <td>1.3</td>\n",
              "      <td>0.2</td>\n",
              "      <td>Iris-setosa</td>\n",
              "    </tr>\n",
              "    <tr>\n",
              "      <th>2</th>\n",
              "      <td>4.6</td>\n",
              "      <td>3.1</td>\n",
              "      <td>1.5</td>\n",
              "      <td>0.2</td>\n",
              "      <td>Iris-setosa</td>\n",
              "    </tr>\n",
              "    <tr>\n",
              "      <th>3</th>\n",
              "      <td>5.0</td>\n",
              "      <td>3.6</td>\n",
              "      <td>1.4</td>\n",
              "      <td>0.2</td>\n",
              "      <td>Iris-setosa</td>\n",
              "    </tr>\n",
              "    <tr>\n",
              "      <th>4</th>\n",
              "      <td>5.4</td>\n",
              "      <td>3.9</td>\n",
              "      <td>1.7</td>\n",
              "      <td>0.4</td>\n",
              "      <td>Iris-setosa</td>\n",
              "    </tr>\n",
              "    <tr>\n",
              "      <th>...</th>\n",
              "      <td>...</td>\n",
              "      <td>...</td>\n",
              "      <td>...</td>\n",
              "      <td>...</td>\n",
              "      <td>...</td>\n",
              "    </tr>\n",
              "    <tr>\n",
              "      <th>144</th>\n",
              "      <td>6.7</td>\n",
              "      <td>3.0</td>\n",
              "      <td>5.2</td>\n",
              "      <td>2.3</td>\n",
              "      <td>Iris-virginica</td>\n",
              "    </tr>\n",
              "    <tr>\n",
              "      <th>145</th>\n",
              "      <td>6.3</td>\n",
              "      <td>2.5</td>\n",
              "      <td>5.0</td>\n",
              "      <td>1.9</td>\n",
              "      <td>Iris-virginica</td>\n",
              "    </tr>\n",
              "    <tr>\n",
              "      <th>146</th>\n",
              "      <td>6.5</td>\n",
              "      <td>3.0</td>\n",
              "      <td>5.2</td>\n",
              "      <td>2.0</td>\n",
              "      <td>Iris-virginica</td>\n",
              "    </tr>\n",
              "    <tr>\n",
              "      <th>147</th>\n",
              "      <td>6.2</td>\n",
              "      <td>3.4</td>\n",
              "      <td>5.4</td>\n",
              "      <td>2.3</td>\n",
              "      <td>Iris-virginica</td>\n",
              "    </tr>\n",
              "    <tr>\n",
              "      <th>148</th>\n",
              "      <td>5.9</td>\n",
              "      <td>3.0</td>\n",
              "      <td>5.1</td>\n",
              "      <td>1.8</td>\n",
              "      <td>Iris-virginica</td>\n",
              "    </tr>\n",
              "  </tbody>\n",
              "</table>\n",
              "<p>149 rows × 5 columns</p>\n",
              "</div>"
            ],
            "text/plain": [
              "     5.1  3.5  1.4  0.2     Iris-setosa\n",
              "0    4.9  3.0  1.4  0.2     Iris-setosa\n",
              "1    4.7  3.2  1.3  0.2     Iris-setosa\n",
              "2    4.6  3.1  1.5  0.2     Iris-setosa\n",
              "3    5.0  3.6  1.4  0.2     Iris-setosa\n",
              "4    5.4  3.9  1.7  0.4     Iris-setosa\n",
              "..   ...  ...  ...  ...             ...\n",
              "144  6.7  3.0  5.2  2.3  Iris-virginica\n",
              "145  6.3  2.5  5.0  1.9  Iris-virginica\n",
              "146  6.5  3.0  5.2  2.0  Iris-virginica\n",
              "147  6.2  3.4  5.4  2.3  Iris-virginica\n",
              "148  5.9  3.0  5.1  1.8  Iris-virginica\n",
              "\n",
              "[149 rows x 5 columns]"
            ]
          },
          "metadata": {
            "tags": []
          },
          "execution_count": 4
        }
      ]
    },
    {
      "cell_type": "code",
      "metadata": {
        "colab": {
          "base_uri": "https://localhost:8080/"
        },
        "id": "zZavx--vsXwA",
        "outputId": "2ca19a28-99fc-442a-8b6d-5fa7b21225fa"
      },
      "source": [
        "classe = base.iloc[:, 4].values\n",
        "classe"
      ],
      "execution_count": 6,
      "outputs": [
        {
          "output_type": "execute_result",
          "data": {
            "text/plain": [
              "array(['Iris-setosa', 'Iris-setosa', 'Iris-setosa', 'Iris-setosa',\n",
              "       'Iris-setosa', 'Iris-setosa', 'Iris-setosa', 'Iris-setosa',\n",
              "       'Iris-setosa', 'Iris-setosa', 'Iris-setosa', 'Iris-setosa',\n",
              "       'Iris-setosa', 'Iris-setosa', 'Iris-setosa', 'Iris-setosa',\n",
              "       'Iris-setosa', 'Iris-setosa', 'Iris-setosa', 'Iris-setosa',\n",
              "       'Iris-setosa', 'Iris-setosa', 'Iris-setosa', 'Iris-setosa',\n",
              "       'Iris-setosa', 'Iris-setosa', 'Iris-setosa', 'Iris-setosa',\n",
              "       'Iris-setosa', 'Iris-setosa', 'Iris-setosa', 'Iris-setosa',\n",
              "       'Iris-setosa', 'Iris-setosa', 'Iris-setosa', 'Iris-setosa',\n",
              "       'Iris-setosa', 'Iris-setosa', 'Iris-setosa', 'Iris-setosa',\n",
              "       'Iris-setosa', 'Iris-setosa', 'Iris-setosa', 'Iris-setosa',\n",
              "       'Iris-setosa', 'Iris-setosa', 'Iris-setosa', 'Iris-setosa',\n",
              "       'Iris-setosa', 'Iris-versicolor', 'Iris-versicolor',\n",
              "       'Iris-versicolor', 'Iris-versicolor', 'Iris-versicolor',\n",
              "       'Iris-versicolor', 'Iris-versicolor', 'Iris-versicolor',\n",
              "       'Iris-versicolor', 'Iris-versicolor', 'Iris-versicolor',\n",
              "       'Iris-versicolor', 'Iris-versicolor', 'Iris-versicolor',\n",
              "       'Iris-versicolor', 'Iris-versicolor', 'Iris-versicolor',\n",
              "       'Iris-versicolor', 'Iris-versicolor', 'Iris-versicolor',\n",
              "       'Iris-versicolor', 'Iris-versicolor', 'Iris-versicolor',\n",
              "       'Iris-versicolor', 'Iris-versicolor', 'Iris-versicolor',\n",
              "       'Iris-versicolor', 'Iris-versicolor', 'Iris-versicolor',\n",
              "       'Iris-versicolor', 'Iris-versicolor', 'Iris-versicolor',\n",
              "       'Iris-versicolor', 'Iris-versicolor', 'Iris-versicolor',\n",
              "       'Iris-versicolor', 'Iris-versicolor', 'Iris-versicolor',\n",
              "       'Iris-versicolor', 'Iris-versicolor', 'Iris-versicolor',\n",
              "       'Iris-versicolor', 'Iris-versicolor', 'Iris-versicolor',\n",
              "       'Iris-versicolor', 'Iris-versicolor', 'Iris-versicolor',\n",
              "       'Iris-versicolor', 'Iris-versicolor', 'Iris-versicolor',\n",
              "       'Iris-virginica', 'Iris-virginica', 'Iris-virginica',\n",
              "       'Iris-virginica', 'Iris-virginica', 'Iris-virginica',\n",
              "       'Iris-virginica', 'Iris-virginica', 'Iris-virginica',\n",
              "       'Iris-virginica', 'Iris-virginica', 'Iris-virginica',\n",
              "       'Iris-virginica', 'Iris-virginica', 'Iris-virginica',\n",
              "       'Iris-virginica', 'Iris-virginica', 'Iris-virginica',\n",
              "       'Iris-virginica', 'Iris-virginica', 'Iris-virginica',\n",
              "       'Iris-virginica', 'Iris-virginica', 'Iris-virginica',\n",
              "       'Iris-virginica', 'Iris-virginica', 'Iris-virginica',\n",
              "       'Iris-virginica', 'Iris-virginica', 'Iris-virginica',\n",
              "       'Iris-virginica', 'Iris-virginica', 'Iris-virginica',\n",
              "       'Iris-virginica', 'Iris-virginica', 'Iris-virginica',\n",
              "       'Iris-virginica', 'Iris-virginica', 'Iris-virginica',\n",
              "       'Iris-virginica', 'Iris-virginica', 'Iris-virginica',\n",
              "       'Iris-virginica', 'Iris-virginica', 'Iris-virginica',\n",
              "       'Iris-virginica', 'Iris-virginica', 'Iris-virginica',\n",
              "       'Iris-virginica', 'Iris-virginica'], dtype=object)"
            ]
          },
          "metadata": {
            "tags": []
          },
          "execution_count": 6
        }
      ]
    },
    {
      "cell_type": "code",
      "metadata": {
        "colab": {
          "base_uri": "https://localhost:8080/"
        },
        "id": "SZ5o_qBVtcPw",
        "outputId": "b2f24b71-eb83-42ed-8c90-c2096d8066ab"
      },
      "source": [
        "previsores = base.iloc[:, 0:4].values\n",
        "previsores"
      ],
      "execution_count": 19,
      "outputs": [
        {
          "output_type": "execute_result",
          "data": {
            "text/plain": [
              "array([[4.9, 3. , 1.4, 0.2],\n",
              "       [4.7, 3.2, 1.3, 0.2],\n",
              "       [4.6, 3.1, 1.5, 0.2],\n",
              "       [5. , 3.6, 1.4, 0.2],\n",
              "       [5.4, 3.9, 1.7, 0.4],\n",
              "       [4.6, 3.4, 1.4, 0.3],\n",
              "       [5. , 3.4, 1.5, 0.2],\n",
              "       [4.4, 2.9, 1.4, 0.2],\n",
              "       [4.9, 3.1, 1.5, 0.1],\n",
              "       [5.4, 3.7, 1.5, 0.2],\n",
              "       [4.8, 3.4, 1.6, 0.2],\n",
              "       [4.8, 3. , 1.4, 0.1],\n",
              "       [4.3, 3. , 1.1, 0.1],\n",
              "       [5.8, 4. , 1.2, 0.2],\n",
              "       [5.7, 4.4, 1.5, 0.4],\n",
              "       [5.4, 3.9, 1.3, 0.4],\n",
              "       [5.1, 3.5, 1.4, 0.3],\n",
              "       [5.7, 3.8, 1.7, 0.3],\n",
              "       [5.1, 3.8, 1.5, 0.3],\n",
              "       [5.4, 3.4, 1.7, 0.2],\n",
              "       [5.1, 3.7, 1.5, 0.4],\n",
              "       [4.6, 3.6, 1. , 0.2],\n",
              "       [5.1, 3.3, 1.7, 0.5],\n",
              "       [4.8, 3.4, 1.9, 0.2],\n",
              "       [5. , 3. , 1.6, 0.2],\n",
              "       [5. , 3.4, 1.6, 0.4],\n",
              "       [5.2, 3.5, 1.5, 0.2],\n",
              "       [5.2, 3.4, 1.4, 0.2],\n",
              "       [4.7, 3.2, 1.6, 0.2],\n",
              "       [4.8, 3.1, 1.6, 0.2],\n",
              "       [5.4, 3.4, 1.5, 0.4],\n",
              "       [5.2, 4.1, 1.5, 0.1],\n",
              "       [5.5, 4.2, 1.4, 0.2],\n",
              "       [4.9, 3.1, 1.5, 0.1],\n",
              "       [5. , 3.2, 1.2, 0.2],\n",
              "       [5.5, 3.5, 1.3, 0.2],\n",
              "       [4.9, 3.1, 1.5, 0.1],\n",
              "       [4.4, 3. , 1.3, 0.2],\n",
              "       [5.1, 3.4, 1.5, 0.2],\n",
              "       [5. , 3.5, 1.3, 0.3],\n",
              "       [4.5, 2.3, 1.3, 0.3],\n",
              "       [4.4, 3.2, 1.3, 0.2],\n",
              "       [5. , 3.5, 1.6, 0.6],\n",
              "       [5.1, 3.8, 1.9, 0.4],\n",
              "       [4.8, 3. , 1.4, 0.3],\n",
              "       [5.1, 3.8, 1.6, 0.2],\n",
              "       [4.6, 3.2, 1.4, 0.2],\n",
              "       [5.3, 3.7, 1.5, 0.2],\n",
              "       [5. , 3.3, 1.4, 0.2],\n",
              "       [7. , 3.2, 4.7, 1.4],\n",
              "       [6.4, 3.2, 4.5, 1.5],\n",
              "       [6.9, 3.1, 4.9, 1.5],\n",
              "       [5.5, 2.3, 4. , 1.3],\n",
              "       [6.5, 2.8, 4.6, 1.5],\n",
              "       [5.7, 2.8, 4.5, 1.3],\n",
              "       [6.3, 3.3, 4.7, 1.6],\n",
              "       [4.9, 2.4, 3.3, 1. ],\n",
              "       [6.6, 2.9, 4.6, 1.3],\n",
              "       [5.2, 2.7, 3.9, 1.4],\n",
              "       [5. , 2. , 3.5, 1. ],\n",
              "       [5.9, 3. , 4.2, 1.5],\n",
              "       [6. , 2.2, 4. , 1. ],\n",
              "       [6.1, 2.9, 4.7, 1.4],\n",
              "       [5.6, 2.9, 3.6, 1.3],\n",
              "       [6.7, 3.1, 4.4, 1.4],\n",
              "       [5.6, 3. , 4.5, 1.5],\n",
              "       [5.8, 2.7, 4.1, 1. ],\n",
              "       [6.2, 2.2, 4.5, 1.5],\n",
              "       [5.6, 2.5, 3.9, 1.1],\n",
              "       [5.9, 3.2, 4.8, 1.8],\n",
              "       [6.1, 2.8, 4. , 1.3],\n",
              "       [6.3, 2.5, 4.9, 1.5],\n",
              "       [6.1, 2.8, 4.7, 1.2],\n",
              "       [6.4, 2.9, 4.3, 1.3],\n",
              "       [6.6, 3. , 4.4, 1.4],\n",
              "       [6.8, 2.8, 4.8, 1.4],\n",
              "       [6.7, 3. , 5. , 1.7],\n",
              "       [6. , 2.9, 4.5, 1.5],\n",
              "       [5.7, 2.6, 3.5, 1. ],\n",
              "       [5.5, 2.4, 3.8, 1.1],\n",
              "       [5.5, 2.4, 3.7, 1. ],\n",
              "       [5.8, 2.7, 3.9, 1.2],\n",
              "       [6. , 2.7, 5.1, 1.6],\n",
              "       [5.4, 3. , 4.5, 1.5],\n",
              "       [6. , 3.4, 4.5, 1.6],\n",
              "       [6.7, 3.1, 4.7, 1.5],\n",
              "       [6.3, 2.3, 4.4, 1.3],\n",
              "       [5.6, 3. , 4.1, 1.3],\n",
              "       [5.5, 2.5, 4. , 1.3],\n",
              "       [5.5, 2.6, 4.4, 1.2],\n",
              "       [6.1, 3. , 4.6, 1.4],\n",
              "       [5.8, 2.6, 4. , 1.2],\n",
              "       [5. , 2.3, 3.3, 1. ],\n",
              "       [5.6, 2.7, 4.2, 1.3],\n",
              "       [5.7, 3. , 4.2, 1.2],\n",
              "       [5.7, 2.9, 4.2, 1.3],\n",
              "       [6.2, 2.9, 4.3, 1.3],\n",
              "       [5.1, 2.5, 3. , 1.1],\n",
              "       [5.7, 2.8, 4.1, 1.3],\n",
              "       [6.3, 3.3, 6. , 2.5],\n",
              "       [5.8, 2.7, 5.1, 1.9],\n",
              "       [7.1, 3. , 5.9, 2.1],\n",
              "       [6.3, 2.9, 5.6, 1.8],\n",
              "       [6.5, 3. , 5.8, 2.2],\n",
              "       [7.6, 3. , 6.6, 2.1],\n",
              "       [4.9, 2.5, 4.5, 1.7],\n",
              "       [7.3, 2.9, 6.3, 1.8],\n",
              "       [6.7, 2.5, 5.8, 1.8],\n",
              "       [7.2, 3.6, 6.1, 2.5],\n",
              "       [6.5, 3.2, 5.1, 2. ],\n",
              "       [6.4, 2.7, 5.3, 1.9],\n",
              "       [6.8, 3. , 5.5, 2.1],\n",
              "       [5.7, 2.5, 5. , 2. ],\n",
              "       [5.8, 2.8, 5.1, 2.4],\n",
              "       [6.4, 3.2, 5.3, 2.3],\n",
              "       [6.5, 3. , 5.5, 1.8],\n",
              "       [7.7, 3.8, 6.7, 2.2],\n",
              "       [7.7, 2.6, 6.9, 2.3],\n",
              "       [6. , 2.2, 5. , 1.5],\n",
              "       [6.9, 3.2, 5.7, 2.3],\n",
              "       [5.6, 2.8, 4.9, 2. ],\n",
              "       [7.7, 2.8, 6.7, 2. ],\n",
              "       [6.3, 2.7, 4.9, 1.8],\n",
              "       [6.7, 3.3, 5.7, 2.1],\n",
              "       [7.2, 3.2, 6. , 1.8],\n",
              "       [6.2, 2.8, 4.8, 1.8],\n",
              "       [6.1, 3. , 4.9, 1.8],\n",
              "       [6.4, 2.8, 5.6, 2.1],\n",
              "       [7.2, 3. , 5.8, 1.6],\n",
              "       [7.4, 2.8, 6.1, 1.9],\n",
              "       [7.9, 3.8, 6.4, 2. ],\n",
              "       [6.4, 2.8, 5.6, 2.2],\n",
              "       [6.3, 2.8, 5.1, 1.5],\n",
              "       [6.1, 2.6, 5.6, 1.4],\n",
              "       [7.7, 3. , 6.1, 2.3],\n",
              "       [6.3, 3.4, 5.6, 2.4],\n",
              "       [6.4, 3.1, 5.5, 1.8],\n",
              "       [6. , 3. , 4.8, 1.8],\n",
              "       [6.9, 3.1, 5.4, 2.1],\n",
              "       [6.7, 3.1, 5.6, 2.4],\n",
              "       [6.9, 3.1, 5.1, 2.3],\n",
              "       [5.8, 2.7, 5.1, 1.9],\n",
              "       [6.8, 3.2, 5.9, 2.3],\n",
              "       [6.7, 3.3, 5.7, 2.5],\n",
              "       [6.7, 3. , 5.2, 2.3],\n",
              "       [6.3, 2.5, 5. , 1.9],\n",
              "       [6.5, 3. , 5.2, 2. ],\n",
              "       [6.2, 3.4, 5.4, 2.3],\n",
              "       [5.9, 3. , 5.1, 1.8]])"
            ]
          },
          "metadata": {
            "tags": []
          },
          "execution_count": 19
        }
      ]
    },
    {
      "cell_type": "code",
      "metadata": {
        "colab": {
          "base_uri": "https://localhost:8080/"
        },
        "id": "1wnqlENPtpUY",
        "outputId": "2490a620-e6d1-471a-c913-5548b9e70fc6"
      },
      "source": [
        "base.info()"
      ],
      "execution_count": 10,
      "outputs": [
        {
          "output_type": "stream",
          "text": [
            "<class 'pandas.core.frame.DataFrame'>\n",
            "RangeIndex: 149 entries, 0 to 148\n",
            "Data columns (total 5 columns):\n",
            " #   Column       Non-Null Count  Dtype  \n",
            "---  ------       --------------  -----  \n",
            " 0   5.1          149 non-null    float64\n",
            " 1   3.5          149 non-null    float64\n",
            " 2   1.4          149 non-null    float64\n",
            " 3   0.2          149 non-null    float64\n",
            " 4   Iris-setosa  149 non-null    object \n",
            "dtypes: float64(4), object(1)\n",
            "memory usage: 5.9+ KB\n"
          ],
          "name": "stdout"
        }
      ]
    },
    {
      "cell_type": "code",
      "metadata": {
        "id": "OVHtqIWEuWoN"
      },
      "source": [
        "x_classe = LabelEncoder()"
      ],
      "execution_count": 24,
      "outputs": []
    },
    {
      "cell_type": "code",
      "metadata": {
        "colab": {
          "base_uri": "https://localhost:8080/"
        },
        "id": "O4k-1rGkumxh",
        "outputId": "18a7d70f-2ec1-4339-c840-bd47a5eea769"
      },
      "source": [
        "classe = x_classe.fit_transform(classe)\n",
        "classe"
      ],
      "execution_count": 26,
      "outputs": [
        {
          "output_type": "execute_result",
          "data": {
            "text/plain": [
              "array([0, 0, 0, 0, 0, 0, 0, 0, 0, 0, 0, 0, 0, 0, 0, 0, 0, 0, 0, 0, 0, 0,\n",
              "       0, 0, 0, 0, 0, 0, 0, 0, 0, 0, 0, 0, 0, 0, 0, 0, 0, 0, 0, 0, 0, 0,\n",
              "       0, 0, 0, 0, 0, 1, 1, 1, 1, 1, 1, 1, 1, 1, 1, 1, 1, 1, 1, 1, 1, 1,\n",
              "       1, 1, 1, 1, 1, 1, 1, 1, 1, 1, 1, 1, 1, 1, 1, 1, 1, 1, 1, 1, 1, 1,\n",
              "       1, 1, 1, 1, 1, 1, 1, 1, 1, 1, 1, 2, 2, 2, 2, 2, 2, 2, 2, 2, 2, 2,\n",
              "       2, 2, 2, 2, 2, 2, 2, 2, 2, 2, 2, 2, 2, 2, 2, 2, 2, 2, 2, 2, 2, 2,\n",
              "       2, 2, 2, 2, 2, 2, 2, 2, 2, 2, 2, 2, 2, 2, 2, 2, 2])"
            ]
          },
          "metadata": {
            "tags": []
          },
          "execution_count": 26
        }
      ]
    },
    {
      "cell_type": "code",
      "metadata": {
        "id": "4wgn5iGhwHS6"
      },
      "source": [
        "scaler = StandardScaler()"
      ],
      "execution_count": 29,
      "outputs": []
    },
    {
      "cell_type": "code",
      "metadata": {
        "colab": {
          "base_uri": "https://localhost:8080/"
        },
        "id": "C-oNEOpXwJIw",
        "outputId": "b1ab41a7-1148-4ec5-873a-cd2feb4e8dbc"
      },
      "source": [
        "previsores = scaler.fit_transform(previsores)\n",
        "previsores  "
      ],
      "execution_count": 31,
      "outputs": [
        {
          "output_type": "execute_result",
          "data": {
            "text/plain": [
              "array([[-1.1483555 , -0.11805969, -1.35396443, -1.32506301],\n",
              "       [-1.3905423 ,  0.34485856, -1.41098555, -1.32506301],\n",
              "       [-1.51163569,  0.11339944, -1.29694332, -1.32506301],\n",
              "       [-1.02726211,  1.27069504, -1.35396443, -1.32506301],\n",
              "       [-0.54288852,  1.9650724 , -1.18290109, -1.0614657 ],\n",
              "       [-1.51163569,  0.8077768 , -1.35396443, -1.19326436],\n",
              "       [-1.02726211,  0.8077768 , -1.29694332, -1.32506301],\n",
              "       [-1.75382249, -0.34951881, -1.35396443, -1.32506301],\n",
              "       [-1.1483555 ,  0.11339944, -1.29694332, -1.45686167],\n",
              "       [-0.54288852,  1.50215416, -1.29694332, -1.32506301],\n",
              "       [-1.2694489 ,  0.8077768 , -1.23992221, -1.32506301],\n",
              "       [-1.2694489 , -0.11805969, -1.35396443, -1.45686167],\n",
              "       [-1.87491588, -0.11805969, -1.52502777, -1.45686167],\n",
              "       [-0.05851493,  2.19653152, -1.46800666, -1.32506301],\n",
              "       [-0.17960833,  3.122368  , -1.29694332, -1.0614657 ],\n",
              "       [-0.54288852,  1.9650724 , -1.41098555, -1.0614657 ],\n",
              "       [-0.90616871,  1.03923592, -1.35396443, -1.19326436],\n",
              "       [-0.17960833,  1.73361328, -1.18290109, -1.19326436],\n",
              "       [-0.90616871,  1.73361328, -1.29694332, -1.19326436],\n",
              "       [-0.54288852,  0.8077768 , -1.18290109, -1.32506301],\n",
              "       [-0.90616871,  1.50215416, -1.29694332, -1.0614657 ],\n",
              "       [-1.51163569,  1.27069504, -1.58204889, -1.32506301],\n",
              "       [-0.90616871,  0.57631768, -1.18290109, -0.92966704],\n",
              "       [-1.2694489 ,  0.8077768 , -1.06885886, -1.32506301],\n",
              "       [-1.02726211, -0.11805969, -1.23992221, -1.32506301],\n",
              "       [-1.02726211,  0.8077768 , -1.23992221, -1.0614657 ],\n",
              "       [-0.78507531,  1.03923592, -1.29694332, -1.32506301],\n",
              "       [-0.78507531,  0.8077768 , -1.35396443, -1.32506301],\n",
              "       [-1.3905423 ,  0.34485856, -1.23992221, -1.32506301],\n",
              "       [-1.2694489 ,  0.11339944, -1.23992221, -1.32506301],\n",
              "       [-0.54288852,  0.8077768 , -1.29694332, -1.0614657 ],\n",
              "       [-0.78507531,  2.42799064, -1.29694332, -1.45686167],\n",
              "       [-0.42179512,  2.65944976, -1.35396443, -1.32506301],\n",
              "       [-1.1483555 ,  0.11339944, -1.29694332, -1.45686167],\n",
              "       [-1.02726211,  0.34485856, -1.46800666, -1.32506301],\n",
              "       [-0.42179512,  1.03923592, -1.41098555, -1.32506301],\n",
              "       [-1.1483555 ,  0.11339944, -1.29694332, -1.45686167],\n",
              "       [-1.75382249, -0.11805969, -1.41098555, -1.32506301],\n",
              "       [-0.90616871,  0.8077768 , -1.29694332, -1.32506301],\n",
              "       [-1.02726211,  1.03923592, -1.41098555, -1.19326436],\n",
              "       [-1.63272909, -1.73827353, -1.41098555, -1.19326436],\n",
              "       [-1.75382249,  0.34485856, -1.41098555, -1.32506301],\n",
              "       [-1.02726211,  1.03923592, -1.23992221, -0.79786838],\n",
              "       [-0.90616871,  1.73361328, -1.06885886, -1.0614657 ],\n",
              "       [-1.2694489 , -0.11805969, -1.35396443, -1.19326436],\n",
              "       [-0.90616871,  1.73361328, -1.23992221, -1.32506301],\n",
              "       [-1.51163569,  0.34485856, -1.35396443, -1.32506301],\n",
              "       [-0.66398191,  1.50215416, -1.29694332, -1.32506301],\n",
              "       [-1.02726211,  0.57631768, -1.35396443, -1.32506301],\n",
              "       [ 1.39460583,  0.34485856,  0.52773232,  0.25652088],\n",
              "       [ 0.66804545,  0.34485856,  0.41369009,  0.38831953],\n",
              "       [ 1.27351244,  0.11339944,  0.64177455,  0.38831953],\n",
              "       [-0.42179512, -1.73827353,  0.12858453,  0.12472222],\n",
              "       [ 0.78913885, -0.58097793,  0.47071121,  0.38831953],\n",
              "       [-0.17960833, -0.58097793,  0.41369009,  0.12472222],\n",
              "       [ 0.54695205,  0.57631768,  0.52773232,  0.52011819],\n",
              "       [-1.1483555 , -1.50681441, -0.27056327, -0.27067375],\n",
              "       [ 0.91023225, -0.34951881,  0.47071121,  0.12472222],\n",
              "       [-0.78507531, -0.81243705,  0.07156341,  0.25652088],\n",
              "       [-1.02726211, -2.43265089, -0.15652104, -0.27067375],\n",
              "       [ 0.06257847, -0.11805969,  0.24262675,  0.38831953],\n",
              "       [ 0.18367186, -1.96973265,  0.12858453, -0.27067375],\n",
              "       [ 0.30476526, -0.34951881,  0.52773232,  0.25652088],\n",
              "       [-0.30070172, -0.34951881, -0.09949993,  0.12472222],\n",
              "       [ 1.03132564,  0.11339944,  0.35666898,  0.25652088],\n",
              "       [-0.30070172, -0.11805969,  0.41369009,  0.38831953],\n",
              "       [-0.05851493, -0.81243705,  0.18560564, -0.27067375],\n",
              "       [ 0.42585866, -1.96973265,  0.41369009,  0.38831953],\n",
              "       [-0.30070172, -1.27535529,  0.07156341, -0.1388751 ],\n",
              "       [ 0.06257847,  0.34485856,  0.58475344,  0.78371551],\n",
              "       [ 0.30476526, -0.58097793,  0.12858453,  0.12472222],\n",
              "       [ 0.54695205, -1.27535529,  0.64177455,  0.38831953],\n",
              "       [ 0.30476526, -0.58097793,  0.52773232, -0.00707644],\n",
              "       [ 0.66804545, -0.34951881,  0.29964787,  0.12472222],\n",
              "       [ 0.91023225, -0.11805969,  0.35666898,  0.25652088],\n",
              "       [ 1.15241904, -0.58097793,  0.58475344,  0.25652088],\n",
              "       [ 1.03132564, -0.11805969,  0.69879566,  0.65191685],\n",
              "       [ 0.18367186, -0.34951881,  0.41369009,  0.38831953],\n",
              "       [-0.17960833, -1.04389617, -0.15652104, -0.27067375],\n",
              "       [-0.42179512, -1.50681441,  0.0145423 , -0.1388751 ],\n",
              "       [-0.42179512, -1.50681441, -0.04247882, -0.27067375],\n",
              "       [-0.05851493, -0.81243705,  0.07156341, -0.00707644],\n",
              "       [ 0.18367186, -0.81243705,  0.75581678,  0.52011819],\n",
              "       [-0.54288852, -0.11805969,  0.41369009,  0.38831953],\n",
              "       [ 0.18367186,  0.8077768 ,  0.41369009,  0.52011819],\n",
              "       [ 1.03132564,  0.11339944,  0.52773232,  0.38831953],\n",
              "       [ 0.54695205, -1.73827353,  0.35666898,  0.12472222],\n",
              "       [-0.30070172, -0.11805969,  0.18560564,  0.12472222],\n",
              "       [-0.42179512, -1.27535529,  0.12858453,  0.12472222],\n",
              "       [-0.42179512, -1.04389617,  0.35666898, -0.00707644],\n",
              "       [ 0.30476526, -0.11805969,  0.47071121,  0.25652088],\n",
              "       [-0.05851493, -1.04389617,  0.12858453, -0.00707644],\n",
              "       [-1.02726211, -1.73827353, -0.27056327, -0.27067375],\n",
              "       [-0.30070172, -0.81243705,  0.24262675,  0.12472222],\n",
              "       [-0.17960833, -0.11805969,  0.24262675, -0.00707644],\n",
              "       [-0.17960833, -0.34951881,  0.24262675,  0.12472222],\n",
              "       [ 0.42585866, -0.34951881,  0.29964787,  0.12472222],\n",
              "       [-0.90616871, -1.27535529, -0.44162661, -0.1388751 ],\n",
              "       [-0.17960833, -0.58097793,  0.18560564,  0.12472222],\n",
              "       [ 0.54695205,  0.57631768,  1.2690068 ,  1.70630611],\n",
              "       [-0.05851493, -0.81243705,  0.75581678,  0.91551417],\n",
              "       [ 1.51569923, -0.11805969,  1.21198569,  1.17911148],\n",
              "       [ 0.54695205, -0.34951881,  1.04092235,  0.78371551],\n",
              "       [ 0.78913885, -0.11805969,  1.15496457,  1.31091014],\n",
              "       [ 2.12116622, -0.11805969,  1.61113348,  1.17911148],\n",
              "       [-1.1483555 , -1.27535529,  0.41369009,  0.65191685],\n",
              "       [ 1.75788602, -0.34951881,  1.44007014,  0.78371551],\n",
              "       [ 1.03132564, -1.27535529,  1.15496457,  0.78371551],\n",
              "       [ 1.63679263,  1.27069504,  1.32602791,  1.70630611],\n",
              "       [ 0.78913885,  0.34485856,  0.75581678,  1.04731282],\n",
              "       [ 0.66804545, -0.81243705,  0.869859  ,  0.91551417],\n",
              "       [ 1.15241904, -0.11805969,  0.98390123,  1.17911148],\n",
              "       [-0.17960833, -1.27535529,  0.69879566,  1.04731282],\n",
              "       [-0.05851493, -0.58097793,  0.75581678,  1.57450745],\n",
              "       [ 0.66804545,  0.34485856,  0.869859  ,  1.4427088 ],\n",
              "       [ 0.78913885, -0.11805969,  0.98390123,  0.78371551],\n",
              "       [ 2.24225961,  1.73361328,  1.6681546 ,  1.31091014],\n",
              "       [ 2.24225961, -1.04389617,  1.78219682,  1.4427088 ],\n",
              "       [ 0.18367186, -1.96973265,  0.69879566,  0.38831953],\n",
              "       [ 1.27351244,  0.34485856,  1.09794346,  1.4427088 ],\n",
              "       [-0.30070172, -0.58097793,  0.64177455,  1.04731282],\n",
              "       [ 2.24225961, -0.58097793,  1.6681546 ,  1.04731282],\n",
              "       [ 0.54695205, -0.81243705,  0.64177455,  0.78371551],\n",
              "       [ 1.03132564,  0.57631768,  1.09794346,  1.17911148],\n",
              "       [ 1.63679263,  0.34485856,  1.2690068 ,  0.78371551],\n",
              "       [ 0.42585866, -0.58097793,  0.58475344,  0.78371551],\n",
              "       [ 0.30476526, -0.11805969,  0.64177455,  0.78371551],\n",
              "       [ 0.66804545, -0.58097793,  1.04092235,  1.17911148],\n",
              "       [ 1.63679263, -0.11805969,  1.15496457,  0.52011819],\n",
              "       [ 1.87897942, -0.58097793,  1.32602791,  0.91551417],\n",
              "       [ 2.48444641,  1.73361328,  1.49709126,  1.04731282],\n",
              "       [ 0.66804545, -0.58097793,  1.04092235,  1.31091014],\n",
              "       [ 0.54695205, -0.58097793,  0.75581678,  0.38831953],\n",
              "       [ 0.30476526, -1.04389617,  1.04092235,  0.25652088],\n",
              "       [ 2.24225961, -0.11805969,  1.32602791,  1.4427088 ],\n",
              "       [ 0.54695205,  0.8077768 ,  1.04092235,  1.57450745],\n",
              "       [ 0.66804545,  0.11339944,  0.98390123,  0.78371551],\n",
              "       [ 0.18367186, -0.11805969,  0.58475344,  0.78371551],\n",
              "       [ 1.27351244,  0.11339944,  0.92688012,  1.17911148],\n",
              "       [ 1.03132564,  0.11339944,  1.04092235,  1.57450745],\n",
              "       [ 1.27351244,  0.11339944,  0.75581678,  1.4427088 ],\n",
              "       [-0.05851493, -0.81243705,  0.75581678,  0.91551417],\n",
              "       [ 1.15241904,  0.34485856,  1.21198569,  1.4427088 ],\n",
              "       [ 1.03132564,  0.57631768,  1.09794346,  1.70630611],\n",
              "       [ 1.03132564, -0.11805969,  0.81283789,  1.4427088 ],\n",
              "       [ 0.54695205, -1.27535529,  0.69879566,  0.91551417],\n",
              "       [ 0.78913885, -0.11805969,  0.81283789,  1.04731282],\n",
              "       [ 0.42585866,  0.8077768 ,  0.92688012,  1.4427088 ],\n",
              "       [ 0.06257847, -0.11805969,  0.75581678,  0.78371551]])"
            ]
          },
          "metadata": {
            "tags": []
          },
          "execution_count": 31
        }
      ]
    },
    {
      "cell_type": "code",
      "metadata": {
        "id": "yS8GTxN2wrdT"
      },
      "source": [
        "previsores_treinamento, previsores_teste, classe_treinamento, classe_teste = train_test_split(previsores, classe, test_size=0.15, random_state=0)"
      ],
      "execution_count": 33,
      "outputs": []
    },
    {
      "cell_type": "code",
      "metadata": {
        "id": "H8zPnFLGwyfm"
      },
      "source": [
        "classificador = GaussianNB()"
      ],
      "execution_count": 36,
      "outputs": []
    },
    {
      "cell_type": "code",
      "metadata": {
        "colab": {
          "base_uri": "https://localhost:8080/"
        },
        "id": "n58xpykgxFGe",
        "outputId": "a242406f-d4ac-4d00-8637-8780432e79ec"
      },
      "source": [
        "classificador.fit(previsores_treinamento, classe_treinamento)"
      ],
      "execution_count": 37,
      "outputs": [
        {
          "output_type": "execute_result",
          "data": {
            "text/plain": [
              "GaussianNB(priors=None, var_smoothing=1e-09)"
            ]
          },
          "metadata": {
            "tags": []
          },
          "execution_count": 37
        }
      ]
    },
    {
      "cell_type": "code",
      "metadata": {
        "colab": {
          "base_uri": "https://localhost:8080/"
        },
        "id": "zTVa6SaDxIKS",
        "outputId": "f1b3dfb1-d3ff-4868-f4b2-25100d9944a3"
      },
      "source": [
        "previsoes = classificador.predict(previsores_teste)\n",
        "previsoes"
      ],
      "execution_count": 39,
      "outputs": [
        {
          "output_type": "execute_result",
          "data": {
            "text/plain": [
              "array([1, 2, 1, 1, 0, 2, 2, 1, 1, 1, 0, 0, 1, 0, 0, 1, 2, 1, 0, 0, 0, 0,\n",
              "       1])"
            ]
          },
          "metadata": {
            "tags": []
          },
          "execution_count": 39
        }
      ]
    },
    {
      "cell_type": "code",
      "metadata": {
        "colab": {
          "base_uri": "https://localhost:8080/"
        },
        "id": "g13sALdMxN3W",
        "outputId": "c4464a49-ed9d-4304-951e-cedba32f822d"
      },
      "source": [
        "precisao = accuracy_score(classe_teste, previsoes)\n",
        "precisao"
      ],
      "execution_count": 42,
      "outputs": [
        {
          "output_type": "execute_result",
          "data": {
            "text/plain": [
              "0.8695652173913043"
            ]
          },
          "metadata": {
            "tags": []
          },
          "execution_count": 42
        }
      ]
    },
    {
      "cell_type": "code",
      "metadata": {
        "colab": {
          "base_uri": "https://localhost:8080/"
        },
        "id": "T1VfYJ0ExViP",
        "outputId": "233c9fbd-8d32-4f25-8f1a-f9cfb40abd34"
      },
      "source": [
        "matriz = confusion_matrix(classe_teste, previsoes)\n",
        "matriz"
      ],
      "execution_count": 44,
      "outputs": [
        {
          "output_type": "execute_result",
          "data": {
            "text/plain": [
              "array([[9, 0, 0],\n",
              "       [0, 7, 0],\n",
              "       [0, 3, 4]])"
            ]
          },
          "metadata": {
            "tags": []
          },
          "execution_count": 44
        }
      ]
    },
    {
      "cell_type": "code",
      "metadata": {
        "id": "RLZVMlCaxc7i"
      },
      "source": [
        "floresta = RandomForestClassifier(n_estimators = 100)"
      ],
      "execution_count": 46,
      "outputs": []
    },
    {
      "cell_type": "code",
      "metadata": {
        "colab": {
          "base_uri": "https://localhost:8080/"
        },
        "id": "Zxzi5gzQxiDD",
        "outputId": "2cffc4b3-6f13-4dda-f087-89b13ecac677"
      },
      "source": [
        "floresta.fit(previsores_treinamento, classe_treinamento)"
      ],
      "execution_count": 47,
      "outputs": [
        {
          "output_type": "execute_result",
          "data": {
            "text/plain": [
              "RandomForestClassifier(bootstrap=True, ccp_alpha=0.0, class_weight=None,\n",
              "                       criterion='gini', max_depth=None, max_features='auto',\n",
              "                       max_leaf_nodes=None, max_samples=None,\n",
              "                       min_impurity_decrease=0.0, min_impurity_split=None,\n",
              "                       min_samples_leaf=1, min_samples_split=2,\n",
              "                       min_weight_fraction_leaf=0.0, n_estimators=100,\n",
              "                       n_jobs=None, oob_score=False, random_state=None,\n",
              "                       verbose=0, warm_start=False)"
            ]
          },
          "metadata": {
            "tags": []
          },
          "execution_count": 47
        }
      ]
    },
    {
      "cell_type": "code",
      "metadata": {
        "colab": {
          "base_uri": "https://localhost:8080/"
        },
        "id": "MLyIJ3PyxkbG",
        "outputId": "07f7b337-d10f-4338-b10f-a75b59a2d231"
      },
      "source": [
        "previsoes = floresta.predict(previsores_teste)\n",
        "previsoes"
      ],
      "execution_count": 49,
      "outputs": [
        {
          "output_type": "execute_result",
          "data": {
            "text/plain": [
              "array([1, 2, 1, 1, 0, 2, 2, 1, 1, 1, 0, 0, 1, 0, 0, 1, 2, 1, 0, 0, 0, 0,\n",
              "       1])"
            ]
          },
          "metadata": {
            "tags": []
          },
          "execution_count": 49
        }
      ]
    },
    {
      "cell_type": "code",
      "metadata": {
        "colab": {
          "base_uri": "https://localhost:8080/"
        },
        "id": "MsnY9fAyxmay",
        "outputId": "e2c9fcf7-2396-497f-c886-128d2f55f112"
      },
      "source": [
        "taxa_acerto = accuracy_score(classe_teste, previsoes)\n",
        "taxa_acerto"
      ],
      "execution_count": 51,
      "outputs": [
        {
          "output_type": "execute_result",
          "data": {
            "text/plain": [
              "0.8695652173913043"
            ]
          },
          "metadata": {
            "tags": []
          },
          "execution_count": 51
        }
      ]
    },
    {
      "cell_type": "code",
      "metadata": {
        "colab": {
          "base_uri": "https://localhost:8080/"
        },
        "id": "_zhkXcB2xr2o",
        "outputId": "372ac11a-e144-4f4a-dc27-c796f55e3f6b"
      },
      "source": [
        "confusao = confusion_matrix(classe_teste, previsoes)\n",
        "confusao"
      ],
      "execution_count": 53,
      "outputs": [
        {
          "output_type": "execute_result",
          "data": {
            "text/plain": [
              "array([[9, 0, 0],\n",
              "       [0, 7, 0],\n",
              "       [0, 3, 4]])"
            ]
          },
          "metadata": {
            "tags": []
          },
          "execution_count": 53
        }
      ]
    }
  ]
}