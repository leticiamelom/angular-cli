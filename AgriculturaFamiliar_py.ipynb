{
  "nbformat": 4,
  "nbformat_minor": 0,
  "metadata": {
    "colab": {
      "name": "AgriculturaFamiliar.py",
      "provenance": [],
      "collapsed_sections": [],
      "mount_file_id": "1LsfohSqJum4j7AgYL8cErKQa8rBzXekt",
      "authorship_tag": "ABX9TyNrm/FLAZDwrksySRFKiGrP",
      "include_colab_link": true
    },
    "kernelspec": {
      "name": "python3",
      "display_name": "Python 3"
    }
  },
  "cells": [
    {
      "cell_type": "markdown",
      "metadata": {
        "id": "view-in-github",
        "colab_type": "text"
      },
      "source": [
        "<a href=\"https://colab.research.google.com/github/leticiamelom/angular-cli/blob/master/AgriculturaFamiliar_py.ipynb\" target=\"_parent\"><img src=\"https://colab.research.google.com/assets/colab-badge.svg\" alt=\"Open In Colab\"/></a>"
      ]
    },
    {
      "cell_type": "code",
      "metadata": {
        "id": "bh7Dnnt4zF1W"
      },
      "source": [
        "import pandas as pd"
      ],
      "execution_count": 2,
      "outputs": []
    },
    {
      "cell_type": "code",
      "metadata": {
        "id": "YRFCVGQX9p9x"
      },
      "source": [
        "from sklearn.preprocessing import LabelEncoder"
      ],
      "execution_count": 11,
      "outputs": []
    },
    {
      "cell_type": "code",
      "metadata": {
        "id": "snHznBPQ-nYM"
      },
      "source": [
        "from sklearn.preprocessing import StandardScaler"
      ],
      "execution_count": 69,
      "outputs": []
    },
    {
      "cell_type": "code",
      "metadata": {
        "id": "u7IeJq5A-26Q"
      },
      "source": [
        "from sklearn.model_selection import train_test_split"
      ],
      "execution_count": 73,
      "outputs": []
    },
    {
      "cell_type": "code",
      "metadata": {
        "id": "85C2gXBx_TcH"
      },
      "source": [
        "from sklearn.naive_bayes import GaussianNB"
      ],
      "execution_count": 75,
      "outputs": []
    },
    {
      "cell_type": "code",
      "metadata": {
        "id": "RqRocFxm_pv-"
      },
      "source": [
        "from sklearn.metrics import confusion_matrix, accuracy_score"
      ],
      "execution_count": 80,
      "outputs": []
    },
    {
      "cell_type": "code",
      "metadata": {
        "colab": {
          "base_uri": "https://localhost:8080/"
        },
        "id": "KGqJrouj0KAw",
        "outputId": "b6a04911-1c0a-427e-bcd5-e2885ce8790d"
      },
      "source": [
        "url='https://archive.ics.uci.edu/ml/machine-learning-databases/adult/adult.data'\n",
        "base = pd.read_csv(url)\n",
        "print(base)"
      ],
      "execution_count": 28,
      "outputs": [
        {
          "output_type": "stream",
          "text": [
            "       39          State-gov   77516  ...  40   United-States   <=50K\n",
            "0      50   Self-emp-not-inc   83311  ...  13   United-States   <=50K\n",
            "1      38            Private  215646  ...  40   United-States   <=50K\n",
            "2      53            Private  234721  ...  40   United-States   <=50K\n",
            "3      28            Private  338409  ...  40            Cuba   <=50K\n",
            "4      37            Private  284582  ...  40   United-States   <=50K\n",
            "...    ..                ...     ...  ...  ..             ...     ...\n",
            "32555  27            Private  257302  ...  38   United-States   <=50K\n",
            "32556  40            Private  154374  ...  40   United-States    >50K\n",
            "32557  58            Private  151910  ...  40   United-States   <=50K\n",
            "32558  22            Private  201490  ...  20   United-States   <=50K\n",
            "32559  52       Self-emp-inc  287927  ...  40   United-States    >50K\n",
            "\n",
            "[32560 rows x 15 columns]\n"
          ],
          "name": "stdout"
        }
      ]
    },
    {
      "cell_type": "code",
      "metadata": {
        "id": "POyHiPWf6miB",
        "colab": {
          "base_uri": "https://localhost:8080/"
        },
        "outputId": "aa8b6635-e3f9-425b-bcd0-8e1bf57e1738"
      },
      "source": [
        "classe = base.iloc[:, 14].values\n",
        "classe"
      ],
      "execution_count": 51,
      "outputs": [
        {
          "output_type": "execute_result",
          "data": {
            "text/plain": [
              "array([' <=50K', ' <=50K', ' <=50K', ..., ' <=50K', ' <=50K', ' >50K'],\n",
              "      dtype=object)"
            ]
          },
          "metadata": {
            "tags": []
          },
          "execution_count": 51
        }
      ]
    },
    {
      "cell_type": "code",
      "metadata": {
        "id": "wXQroVhL6gtX",
        "colab": {
          "base_uri": "https://localhost:8080/"
        },
        "outputId": "61356c96-6ab9-4d31-e1e7-00bb1981631a"
      },
      "source": [
        "previsores = base.iloc[:, 0:14].values\n",
        "previsores"
      ],
      "execution_count": 48,
      "outputs": [
        {
          "output_type": "execute_result",
          "data": {
            "text/plain": [
              "array([[50, ' Self-emp-not-inc', 83311, ..., 0, 13, ' United-States'],\n",
              "       [38, ' Private', 215646, ..., 0, 40, ' United-States'],\n",
              "       [53, ' Private', 234721, ..., 0, 40, ' United-States'],\n",
              "       ...,\n",
              "       [58, ' Private', 151910, ..., 0, 40, ' United-States'],\n",
              "       [22, ' Private', 201490, ..., 0, 20, ' United-States'],\n",
              "       [52, ' Self-emp-inc', 287927, ..., 0, 40, ' United-States']],\n",
              "      dtype=object)"
            ]
          },
          "metadata": {
            "tags": []
          },
          "execution_count": 48
        }
      ]
    },
    {
      "cell_type": "code",
      "metadata": {
        "colab": {
          "base_uri": "https://localhost:8080/"
        },
        "id": "S2ZjGY-DHn8i",
        "outputId": "db8a7a27-42da-4ae8-edbb-394fdfa939f8"
      },
      "source": [
        "base.info()"
      ],
      "execution_count": 52,
      "outputs": [
        {
          "output_type": "stream",
          "text": [
            "<class 'pandas.core.frame.DataFrame'>\n",
            "RangeIndex: 32560 entries, 0 to 32559\n",
            "Data columns (total 15 columns):\n",
            " #   Column          Non-Null Count  Dtype \n",
            "---  ------          --------------  ----- \n",
            " 0   39              32560 non-null  int64 \n",
            " 1    State-gov      32560 non-null  object\n",
            " 2    77516          32560 non-null  int64 \n",
            " 3    Bachelors      32560 non-null  object\n",
            " 4    13             32560 non-null  int64 \n",
            " 5    Never-married  32560 non-null  object\n",
            " 6    Adm-clerical   32560 non-null  object\n",
            " 7    Not-in-family  32560 non-null  object\n",
            " 8    White          32560 non-null  object\n",
            " 9    Male           32560 non-null  object\n",
            " 10   2174           32560 non-null  int64 \n",
            " 11   0              32560 non-null  int64 \n",
            " 12   40             32560 non-null  int64 \n",
            " 13   United-States  32560 non-null  object\n",
            " 14   <=50K          32560 non-null  object\n",
            "dtypes: int64(6), object(9)\n",
            "memory usage: 3.7+ MB\n"
          ],
          "name": "stdout"
        }
      ]
    },
    {
      "cell_type": "code",
      "metadata": {
        "id": "NE3pum1892hT"
      },
      "source": [
        "x_previsores=LabelEncoder()"
      ],
      "execution_count": 53,
      "outputs": []
    },
    {
      "cell_type": "code",
      "metadata": {
        "id": "uF3WFFt397NX"
      },
      "source": [
        "previsores[:, 1] = x_previsores.fit_transform(previsores[:,1])"
      ],
      "execution_count": 54,
      "outputs": []
    },
    {
      "cell_type": "code",
      "metadata": {
        "id": "tQ4uM1BzKvgR"
      },
      "source": [
        "previsores[:, 3] = x_previsores.fit_transform(previsores[:,3])"
      ],
      "execution_count": 55,
      "outputs": []
    },
    {
      "cell_type": "code",
      "metadata": {
        "id": "XAXRA5y3MLgC"
      },
      "source": [
        "previsores[:, 5] = x_previsores.fit_transform(previsores[:,5])"
      ],
      "execution_count": 56,
      "outputs": []
    },
    {
      "cell_type": "code",
      "metadata": {
        "id": "hn8mqvTlMMWA"
      },
      "source": [
        "previsores[:, 6] = x_previsores.fit_transform(previsores[:,6])"
      ],
      "execution_count": 57,
      "outputs": []
    },
    {
      "cell_type": "code",
      "metadata": {
        "id": "JCdvgD1pMoa2"
      },
      "source": [
        "previsores[:, 7] = x_previsores.fit_transform(previsores[:,7])"
      ],
      "execution_count": 58,
      "outputs": []
    },
    {
      "cell_type": "code",
      "metadata": {
        "id": "5GTXVqtmMNvD"
      },
      "source": [
        "previsores[:, 8] = x_previsores.fit_transform(previsores[:,8])"
      ],
      "execution_count": 59,
      "outputs": []
    },
    {
      "cell_type": "code",
      "metadata": {
        "id": "iRmPffBZMOld"
      },
      "source": [
        "previsores[:, 9] = x_previsores.fit_transform(previsores[:,9])"
      ],
      "execution_count": 60,
      "outputs": []
    },
    {
      "cell_type": "code",
      "metadata": {
        "id": "WETc-RnrMseD"
      },
      "source": [
        "previsores[:, 13] = x_previsores.fit_transform(previsores[:,13])"
      ],
      "execution_count": 62,
      "outputs": []
    },
    {
      "cell_type": "code",
      "metadata": {
        "colab": {
          "base_uri": "https://localhost:8080/"
        },
        "id": "aJEl_SBTNeVS",
        "outputId": "2be9723f-b3ce-4ccb-bea8-ec80f3fcacab"
      },
      "source": [
        "previsores"
      ],
      "execution_count": 64,
      "outputs": [
        {
          "output_type": "execute_result",
          "data": {
            "text/plain": [
              "array([[50, 6, 83311, ..., 0, 13, 39],\n",
              "       [38, 4, 215646, ..., 0, 40, 39],\n",
              "       [53, 4, 234721, ..., 0, 40, 39],\n",
              "       ...,\n",
              "       [58, 4, 151910, ..., 0, 40, 39],\n",
              "       [22, 4, 201490, ..., 0, 20, 39],\n",
              "       [52, 5, 287927, ..., 0, 40, 39]], dtype=object)"
            ]
          },
          "metadata": {
            "tags": []
          },
          "execution_count": 64
        }
      ]
    },
    {
      "cell_type": "code",
      "metadata": {
        "id": "PVf1PFoG-VhA"
      },
      "source": [
        "x_classe = LabelEncoder()"
      ],
      "execution_count": 66,
      "outputs": []
    },
    {
      "cell_type": "code",
      "metadata": {
        "id": "rWg1d76q-dMY"
      },
      "source": [
        "classe = x_classe.fit_transform(classe)"
      ],
      "execution_count": 67,
      "outputs": []
    },
    {
      "cell_type": "code",
      "metadata": {
        "colab": {
          "base_uri": "https://localhost:8080/"
        },
        "id": "o0EKpmZyN-AV",
        "outputId": "f989424d-823a-42bb-ae4e-193e5e58cc9e"
      },
      "source": [
        "classe"
      ],
      "execution_count": 68,
      "outputs": [
        {
          "output_type": "execute_result",
          "data": {
            "text/plain": [
              "array([0, 0, 0, ..., 0, 0, 1])"
            ]
          },
          "metadata": {
            "tags": []
          },
          "execution_count": 68
        }
      ]
    },
    {
      "cell_type": "code",
      "metadata": {
        "id": "PXC4Go__-rJY"
      },
      "source": [
        "scaler = StandardScaler()"
      ],
      "execution_count": 70,
      "outputs": []
    },
    {
      "cell_type": "code",
      "metadata": {
        "id": "1nLkSuAp-t2O"
      },
      "source": [
        "previsores = scaler.fit_transform(previsores)"
      ],
      "execution_count": 71,
      "outputs": []
    },
    {
      "cell_type": "code",
      "metadata": {
        "id": "NgjARtSm_BtA"
      },
      "source": [
        "previsores_treinamento, previsores_teste, classe_treinamento, classe_teste = train_test_split(previsores, classe, test_size=0.15, random_state=0)"
      ],
      "execution_count": 74,
      "outputs": []
    },
    {
      "cell_type": "code",
      "metadata": {
        "id": "_18p2p_q_Ys4"
      },
      "source": [
        "classificador = GaussianNB()"
      ],
      "execution_count": 76,
      "outputs": []
    },
    {
      "cell_type": "code",
      "metadata": {
        "colab": {
          "base_uri": "https://localhost:8080/"
        },
        "id": "okZ0NJB1_btH",
        "outputId": "3385753b-063a-4488-d57b-76e11a77d091"
      },
      "source": [
        "classificador.fit(previsores_treinamento, classe_treinamento)"
      ],
      "execution_count": 77,
      "outputs": [
        {
          "output_type": "execute_result",
          "data": {
            "text/plain": [
              "GaussianNB(priors=None, var_smoothing=1e-09)"
            ]
          },
          "metadata": {
            "tags": []
          },
          "execution_count": 77
        }
      ]
    },
    {
      "cell_type": "code",
      "metadata": {
        "colab": {
          "base_uri": "https://localhost:8080/"
        },
        "id": "HbV8Nahu_iL_",
        "outputId": "ff9da4cc-b9b3-4a66-8c12-88653f1804f1"
      },
      "source": [
        "previsoes = classificador.predict(previsores_teste)\n",
        "previsoes"
      ],
      "execution_count": 85,
      "outputs": [
        {
          "output_type": "execute_result",
          "data": {
            "text/plain": [
              "array([0, 0, 0, ..., 0, 0, 0])"
            ]
          },
          "metadata": {
            "tags": []
          },
          "execution_count": 85
        }
      ]
    },
    {
      "cell_type": "code",
      "metadata": {
        "colab": {
          "base_uri": "https://localhost:8080/"
        },
        "id": "9Ghy6C-g_uxH",
        "outputId": "0094c2cf-576c-48da-fcb6-660fc124f1de"
      },
      "source": [
        "precisao = accuracy_score(classe_teste, previsoes)\n",
        "precisao"
      ],
      "execution_count": 84,
      "outputs": [
        {
          "output_type": "execute_result",
          "data": {
            "text/plain": [
              "0.8065110565110565"
            ]
          },
          "metadata": {
            "tags": []
          },
          "execution_count": 84
        }
      ]
    },
    {
      "cell_type": "code",
      "metadata": {
        "colab": {
          "base_uri": "https://localhost:8080/"
        },
        "id": "lMWM3SWk_28m",
        "outputId": "f24b34aa-3e9e-4b07-d476-0d0eda2d54e2"
      },
      "source": [
        "matriz = confusion_matrix(classe_teste, previsoes)\n",
        "matriz"
      ],
      "execution_count": 86,
      "outputs": [
        {
          "output_type": "execute_result",
          "data": {
            "text/plain": [
              "array([[3587,  172],\n",
              "       [ 773,  352]])"
            ]
          },
          "metadata": {
            "tags": []
          },
          "execution_count": 86
        }
      ]
    }
  ]
}