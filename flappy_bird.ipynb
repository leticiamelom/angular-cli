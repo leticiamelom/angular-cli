{
  "nbformat": 4,
  "nbformat_minor": 0,
  "metadata": {
    "colab": {
      "name": "flappy-bird.ipynb",
      "provenance": [],
      "collapsed_sections": [],
      "authorship_tag": "ABX9TyNW2+2OC6hu745I9J3tzu+e",
      "include_colab_link": true
    },
    "kernelspec": {
      "name": "python3",
      "display_name": "Python 3"
    },
    "language_info": {
      "name": "python"
    }
  },
  "cells": [
    {
      "cell_type": "markdown",
      "metadata": {
        "id": "view-in-github",
        "colab_type": "text"
      },
      "source": [
        "<a href=\"https://colab.research.google.com/github/leticiamelom/angular-cli/blob/master/flappy_bird.ipynb\" target=\"_parent\"><img src=\"https://colab.research.google.com/assets/colab-badge.svg\" alt=\"Open In Colab\"/></a>"
      ]
    },
    {
      "cell_type": "code",
      "metadata": {
        "colab": {
          "base_uri": "https://localhost:8080/"
        },
        "id": "IzBx_9yCDVsy",
        "outputId": "874854ab-f273-40e5-c732-d65d76553d5b"
      },
      "source": [
        "pip install pygame"
      ],
      "execution_count": 227,
      "outputs": [
        {
          "output_type": "stream",
          "text": [
            "Requirement already satisfied: pygame in /usr/local/lib/python3.7/dist-packages (2.0.1)\n"
          ],
          "name": "stdout"
        }
      ]
    },
    {
      "cell_type": "code",
      "metadata": {
        "colab": {
          "base_uri": "https://localhost:8080/"
        },
        "id": "MyCDxRgvEPPh",
        "outputId": "dd164f08-2f32-48a8-be8a-710a4a222846"
      },
      "source": [
        "pip install neat-python"
      ],
      "execution_count": 228,
      "outputs": [
        {
          "output_type": "stream",
          "text": [
            "Requirement already satisfied: neat-python in /usr/local/lib/python3.7/dist-packages (0.92)\n"
          ],
          "name": "stdout"
        }
      ]
    },
    {
      "cell_type": "code",
      "metadata": {
        "id": "XBnrdFhmE75j"
      },
      "source": [
        "import pygame"
      ],
      "execution_count": 229,
      "outputs": []
    },
    {
      "cell_type": "code",
      "metadata": {
        "id": "_LDY0sdzE_p6"
      },
      "source": [
        "import neat"
      ],
      "execution_count": 230,
      "outputs": []
    },
    {
      "cell_type": "code",
      "metadata": {
        "id": "kF37uxdIFBHv"
      },
      "source": [
        "import time"
      ],
      "execution_count": 231,
      "outputs": []
    },
    {
      "cell_type": "code",
      "metadata": {
        "id": "x_lUxmE7FELL"
      },
      "source": [
        "import os"
      ],
      "execution_count": 232,
      "outputs": []
    },
    {
      "cell_type": "code",
      "metadata": {
        "id": "1R1E3jN1FFlg"
      },
      "source": [
        "import random"
      ],
      "execution_count": 233,
      "outputs": []
    },
    {
      "cell_type": "code",
      "metadata": {
        "id": "KeWFjaZ8FHZj"
      },
      "source": [
        "TELA_ALTURA = 600\n",
        "TELA_LARGURA = 800"
      ],
      "execution_count": 234,
      "outputs": []
    },
    {
      "cell_type": "code",
      "metadata": {
        "id": "jBG9uMyXH4Ju"
      },
      "source": [
        "#imagens dos passaros, scale duplica o tamanho do passaro\n",
        "bird_imgs = [\n",
        "        pygame.transform.scale2x(pygame.image.load(os.path.join('imgs', 'bird1.png'))),\n",
        "        pygame.transform.scale2x(pygame.image.load(os.path.join('imgs', 'bird2.png'))),\n",
        "        pygame.transform.scale2x(pygame.image.load(os.path.join('imgs', 'bird3.png')))\n",
        "]"
      ],
      "execution_count": 235,
      "outputs": []
    },
    {
      "cell_type": "code",
      "metadata": {
        "id": "YVuf4ZmgXBB2"
      },
      "source": [
        "pipe_img = pygame.transform.scale2x(pygame.image.load(os.path.join('imgs', 'pipe.png')))"
      ],
      "execution_count": 236,
      "outputs": []
    },
    {
      "cell_type": "code",
      "metadata": {
        "id": "fOjCcyMbXWdb"
      },
      "source": [
        "base_img = pygame.transform.scale2x(pygame.image.load(os.path.join('imgs', 'base.png')))"
      ],
      "execution_count": 237,
      "outputs": []
    },
    {
      "cell_type": "code",
      "metadata": {
        "id": "gBCswXZRXdC4"
      },
      "source": [
        "bg_img = pygame.transform.scale2x(pygame.image.load(os.path.join('imgs', 'bg.png')))"
      ],
      "execution_count": 238,
      "outputs": []
    },
    {
      "cell_type": "code",
      "metadata": {
        "id": "2yZ1us0Qf1Az"
      },
      "source": [
        "pygame.font.init()"
      ],
      "execution_count": 239,
      "outputs": []
    },
    {
      "cell_type": "code",
      "metadata": {
        "id": "jMkC20enf7Ef"
      },
      "source": [
        "fonte_pontos = pygame.font.SysFont('arial', 50)"
      ],
      "execution_count": 240,
      "outputs": []
    },
    {
      "cell_type": "code",
      "metadata": {
        "id": "o1jCEVwIgAwF"
      },
      "source": [
        "class Bird:\n",
        "  IMGS = bird_imgs\n",
        "  ROTACAO_MAX = 25\n",
        "  VELOC_ROTACAO = 20\n",
        "  TEMPO_ANIMACAO = 5\n"
      ],
      "execution_count": 241,
      "outputs": []
    },
    {
      "cell_type": "code",
      "metadata": {
        "id": "UGnwAzErzaEy"
      },
      "source": [
        "  def __init__(self, x, y):\n",
        "    self.x = x\n",
        "    self.y = y\n",
        "    self.angulo = 0\n",
        "    self.velocidade = 0\n",
        "    self.altura = self.y\n",
        "    self.tempo = 0\n",
        "    self.contagem_imagem = 0\n",
        "    self.imagem = IMGS[0]"
      ],
      "execution_count": 242,
      "outputs": []
    },
    {
      "cell_type": "code",
      "metadata": {
        "id": "SPyYhjvUzYKt"
      },
      "source": [
        "    def pular (self):\n",
        "      self.velocidade = -10.5\n",
        "      self.tempo = 0\n",
        "      self.altura = self.y"
      ],
      "execution_count": 243,
      "outputs": []
    },
    {
      "cell_type": "code",
      "metadata": {
        "id": "TF2H3yjrzeKT"
      },
      "source": [
        "    def mover (self):\n",
        "\n",
        "      self.tempo += 1\n",
        "      deslocamento = 1.5 * (self.tempo**2) + self.velocidade * self.tempo\n",
        "\n",
        "      if deslocamento > 16:\n",
        "        deslocamento = 16\n",
        "      elif deslocamento < 0:\n",
        "         deslocamento -= 2\n",
        "\n",
        "      self.y += deslocamento\n",
        "\n",
        "      if  deslocamento < 0 or self.y < (self.altura + 50):\n",
        "        if self.angulo < self.ROTACAO_MAX:\n",
        "          self.angulo = self.ROTACAO_MAX\n",
        "        else:\n",
        "          if self.angulo > -90:\n",
        "            self.angulo -= self.VELOC_ROTACAO"
      ],
      "execution_count": 244,
      "outputs": []
    },
    {
      "cell_type": "code",
      "metadata": {
        "id": "zzkUBm9r5jjP"
      },
      "source": [
        "    def desenhar(self, tela):\n",
        "\n",
        "      self.contagem_imagem += 1\n",
        "\n",
        "      if self.contagem_imagem < self.TEMPO_ANIMACAO:\n",
        "        self.imagem = self.IMGS[0]\n",
        "      elif self.contagem_imagem < self.TEMPO_ANIMACAO*2:\n",
        "        self.imagem = self.IMGS[1]\n",
        "      elif self.contagem_imagem < self.TEMPO_ANIMACAO*3:\n",
        "        self.imagem = self.IMGS[2]\n",
        "      elif self.contagem_imagem < self.TEMPO_ANIMACAO*4:\n",
        "        self.imagem = self.IMGS[1]\n",
        "      elif self.contagem_imagem < self.TEMPO_ANIMACAO*4 + 1:\n",
        "        self.imagem = self.IMGS[0]\n",
        "        self.contagem_imagem = 0\n",
        "\n",
        "      if self.angulo <= -80:\n",
        "        self.imagem = self.IMGS[1]\n",
        "        self.contagem_imagem = self.TEMPO_ANIMACAO*2\n",
        "\n",
        "      imagem_rotacionada = pygame.transform.rotate(self.imagem, self.angulo)\n",
        "      pos_centro_imagem = self.imagem.get_rect(topleft=(self.x, self.y)).center\n",
        "      retangulo = imagem_rotacionada.get_rect(center=pos_centro_imagem)\n",
        "      tela.blit(imagem_rotacionada, retangulo.topleft)"
      ],
      "execution_count": 245,
      "outputs": []
    },
    {
      "cell_type": "code",
      "metadata": {
        "id": "GXBxltfl83qX"
      },
      "source": [
        "    def get_mask(self):\n",
        "      return pygame.mask.from_surface(self.imagem)"
      ],
      "execution_count": 246,
      "outputs": []
    },
    {
      "cell_type": "code",
      "metadata": {
        "id": "NTTHJ94B9CAs"
      },
      "source": [
        "class Pipe:\n",
        "  DISTANCIA = 200\n",
        "  VELOCIDADE = 5"
      ],
      "execution_count": 247,
      "outputs": []
    },
    {
      "cell_type": "code",
      "metadata": {
        "id": "vXZz7PKg9a8M"
      },
      "source": [
        "  def __init__(self, x):\n",
        "    self.x = x\n",
        "    self.altura = 0\n",
        "    self.pos_topo = 0\n",
        "    self.pos_base = 0\n",
        "    self.PIPE_TOPO = pygame.transform.flip(pipe_img, False, True)\n",
        "    self.PIPE_BASE = pipe_img\n",
        "    self.passou = False\n",
        "    self.definir_altura()"
      ],
      "execution_count": 248,
      "outputs": []
    },
    {
      "cell_type": "code",
      "metadata": {
        "id": "9vthkIhb-u0e"
      },
      "source": [
        "    def definir_altura(self):\n",
        "      self.altura = random.randrange(50, 450)\n",
        "      self.pos_topo = self.altura - self.PIPE_TOPO.get_height()\n",
        "      self.pos_base = self.altura + self.DISTANCIA"
      ],
      "execution_count": 249,
      "outputs": []
    },
    {
      "cell_type": "code",
      "metadata": {
        "id": "G3M-x5CL_D8d"
      },
      "source": [
        "    def mover(self):\n",
        "      self.x -= self.VELOCIDADE"
      ],
      "execution_count": 250,
      "outputs": []
    },
    {
      "cell_type": "code",
      "metadata": {
        "id": "oDAyi4yl_Ou-"
      },
      "source": [
        "    def desenhar(self, tela):\n",
        "      tela.blit(self.PIPE_TOPO, (self.x, self.pos_topo))\n",
        "      tela.blit(self.BASE, (self.x, self.base))"
      ],
      "execution_count": 251,
      "outputs": []
    },
    {
      "cell_type": "code",
      "metadata": {
        "id": "MVxmn_6T_hH2"
      },
      "source": [
        "    def colidir(self, bird):\n",
        "      bird_mask = bird.get_mask()\n",
        "      topo_mask = pygame.mask.from_surface(self.PIPE_TOPO)\n",
        "      base_mask = pygame.mask.from_surface(self.PIPE_BASE)\n",
        "\n",
        "      distancia_topo = (self.x - bird.x, self.pos_topo - round(bird.y))\n",
        "      distancia_base = (self.x - bird.x, self.pos_base - round(bird.y))\n",
        "\n",
        "      topo_ponto = bird_mask.overlap(topo_mask, distancia_topo)\n",
        "      base_ponto = bird_mask.overlap(base_mask, distancia_base)\n",
        "\n",
        "      if base_ponto or topo_ponto:\n",
        "        return True\n",
        "      else:\n",
        "        return False"
      ],
      "execution_count": 252,
      "outputs": []
    },
    {
      "cell_type": "code",
      "metadata": {
        "id": "k80KkW5LBKK_"
      },
      "source": [
        "class Chao:\n",
        "  VELOCIDADE = 5\n",
        "  LARGURA = base_img.get_width()\n",
        "  IMAGEM = base_img"
      ],
      "execution_count": 253,
      "outputs": []
    },
    {
      "cell_type": "code",
      "metadata": {
        "id": "DLKcIh6dFlqv"
      },
      "source": [
        "  def __init__(self, y):\n",
        "    self.y = y\n",
        "    self.x1 = 0\n",
        "    self.x2 = self.LARGURA"
      ],
      "execution_count": 254,
      "outputs": []
    },
    {
      "cell_type": "code",
      "metadata": {
        "id": "zA4Y6A2hGZZn"
      },
      "source": [
        "  def mover(self):\n",
        "    self.x1 -= self.VELOCIDADE\n",
        "    self.x2 -= self.VELOCIDADE\n",
        "\n",
        "    if self.x1 + self.LARGURA < 0:\n",
        "      self.x1 = self.x2 + self.LARGURA\n",
        "    if self.x2 + self.LARGURA < 0:\n",
        "      self.x2 = self.x1 + self.LARGURA"
      ],
      "execution_count": 255,
      "outputs": []
    },
    {
      "cell_type": "code",
      "metadata": {
        "id": "ccEXZkyEGpZO"
      },
      "source": [
        "   def desenhar(self, tela):\n",
        "     tela.blit(self.IMAGEM, (self.x1, self.y))\n",
        "     tela.blit(self.IMAGEM, (self.x2, self.y))"
      ],
      "execution_count": 256,
      "outputs": []
    },
    {
      "cell_type": "code",
      "metadata": {
        "id": "MT7EQY1QHy04"
      },
      "source": [
        "def desenhar_tela(tela, birds, pipes, base, pontos):\n",
        "  tela.blit(bg_img, (0, 0))\n",
        "  for bird in birds:\n",
        "    bird.desenhar(tela)\n",
        "  for pipe in pipes:\n",
        "    pipe.desenhar(tela)\n",
        "\n",
        "  texto = FONTE_PONTOS.render(f\"Pontuação: {pontos}\", 1, (255, 255, 255))\n",
        "  tela.blit(texto, (TELA_LARGURA - 10 - texto.get.width(), 10))\n",
        "  base.desenhar(tela)\n",
        "  pygame.display.update()"
      ],
      "execution_count": 257,
      "outputs": []
    },
    {
      "cell_type": "code",
      "metadata": {
        "id": "Oh3lit4QJaeY"
      },
      "source": [
        "def main():\n",
        "  birds = [Bird(230, 350)]\n",
        "  base = Base(730)\n",
        "  pipes = [Pipe(700)]\n",
        "  tela = pygame.display.set_mode((TELA_LARGURA, TELA_ALTURA))\n",
        "  pontos = 0\n",
        "  relogio = pygame.time.Clock()\n",
        "\n",
        "  rodando = True\n",
        "  while rodando:\n",
        "    relogio.tick(30)\n",
        "\n",
        "    for evento in pygame.event.get():\n",
        "      if evento.type == pygame.QUIT:\n",
        "        rodando = False\n",
        "        pygame.quit()\n",
        "        quit\n",
        "      if evento.type == pygame.KEYDOWN:\n",
        "        if evento.key == pygame.K_SPACE:\n",
        "          for bird in birds:\n",
        "            bird.pular()\n",
        "\n",
        "    for bird in birds:\n",
        "      bird.mover()\n",
        "    base.mover()\n",
        "\n",
        "    adicionar_pipe = False\n",
        "    remover_pipes = []\n",
        "    for pipe in pipes:\n",
        "      for i, bird in enumerate(birds):\n",
        "        if pipe.colidir(bird):\n",
        "          birds.pop(i)\n",
        "        if not pipe.passou and bird.x > pipe.x:\n",
        "          pipe.passou = True\n",
        "          adicionar_pipe = True\n",
        "      pipe.mover()\n",
        "      if pipe.x + pipe.PIPE_TOPO.get_width() < 0:\n",
        "        remover_pipes.append(pipe)\n",
        "\n",
        "      if adicionar_pipe:\n",
        "        pontos += 1\n",
        "        pipes.append(Pipe(600))\n",
        "      for pipe in remover_pipes:\n",
        "        pipes.remove(pipe)\n",
        "\n",
        "      for i, bird in enumerate(birds):\n",
        "        if (bird.y + bird.imagem.get_height()) > base.y or bird.y < 0:\n",
        "          birds.pop(i)\n",
        "\n",
        "      desenhar_tela(tela, birds, pipes, base, pontos)"
      ],
      "execution_count": 258,
      "outputs": []
    },
    {
      "cell_type": "code",
      "metadata": {
        "id": "GDQc943PMkKo"
      },
      "source": [
        "if __name__ == '__run__':\n",
        "  run()"
      ],
      "execution_count": 259,
      "outputs": []
    }
  ]
}